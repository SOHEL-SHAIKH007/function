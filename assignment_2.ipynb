{
  "nbformat": 4,
  "nbformat_minor": 0,
  "metadata": {
    "colab": {
      "provenance": []
    },
    "kernelspec": {
      "name": "python3",
      "display_name": "Python 3"
    },
    "language_info": {
      "name": "python"
    }
  },
  "cells": [
    {
      "cell_type": "markdown",
      "source": [
        "# assignment no**.2**\n",
        "1. what are data structures and why are they important?\n",
        "\n",
        "  -> data structure is arrangment of data and it is important because so it can be easily accesed and manupulate"
      ],
      "metadata": {
        "id": "gI3RRsPKIpJn"
      }
    },
    {
      "cell_type": "markdown",
      "source": [
        " 2. explain between mutable and immutable data type with example?\n",
        "\n",
        "  -> data types in which we can add ,remove the elements are called mutable data types and data type in which we can not make changes like add,remove elements are called immutable data type\n",
        "  For eg.-> list(mutable), tuples(immutable)"
      ],
      "metadata": {
        "id": "lyIUJaE5KFYl"
      }
    },
    {
      "cell_type": "markdown",
      "source": [
        "   3.what are main difference in list and tuples in python?\n",
        "   \n",
        "  ->Lists are mutable while tuples are immutable."
      ],
      "metadata": {
        "id": "pqQtEyanLRWd"
      }
    },
    {
      "cell_type": "markdown",
      "source": [
        "4.Describe how dictionaries store data?\n",
        "\n",
        "  -> dictionaries store data in the key and value format."
      ],
      "metadata": {
        "id": "MGse3FgmklY4"
      }
    },
    {
      "cell_type": "markdown",
      "source": [
        " 5.why might you use sets instead of a list in python?\n",
        "\n",
        "  -->Sets are ordered, unique and mutable data type.\n",
        "\n",
        "\n",
        "\n"
      ],
      "metadata": {
        "id": "7pL01v6Yn1C1"
      }
    },
    {
      "cell_type": "markdown",
      "source": [
        "6.what is a string in a python?\n",
        "\n",
        " ->String is a immutable data type use to store a value"
      ],
      "metadata": {
        "id": "NafnL7GikkPa"
      }
    },
    {
      "cell_type": "markdown",
      "source": [
        "7.how do tuple ensure data integrity in python?\n",
        "\n",
        "->tuple once created we can noy make changes in it since tuple are immutable   hence tuple ensure data integrity"
      ],
      "metadata": {
        "id": "dICNO31xoRlo"
      }
    },
    {
      "cell_type": "markdown",
      "source": [
        "8.what is a hash table, and how does it relate to dictionaries?\n",
        "\n",
        "-> Hash table is data type in which data is stored in the key value pair form"
      ],
      "metadata": {
        "id": "ZdcDl1i6oRvQ"
      }
    },
    {
      "cell_type": "markdown",
      "source": [
        "9.Can list contain different data types in python?\n",
        "\n",
        "-> yes string itself contain various data type eg. Tuple,dictionaries,Sets"
      ],
      "metadata": {
        "id": "FGsJebKjoR30"
      }
    },
    {
      "cell_type": "markdown",
      "source": [
        "10.Explain why strings are immutable  in python?\n",
        "\n",
        "->strings are imutable because we can not make change in it after creation."
      ],
      "metadata": {
        "id": "YINddfA3oSAP"
      }
    },
    {
      "cell_type": "markdown",
      "source": [
        "11.What advantages do dictionaroes offer over list for certain tasks?\n",
        "\n",
        "-> In dictionaries data is stored in key-value pair it help in data retrievel hence dictionaries have advantages"
      ],
      "metadata": {
        "id": "kVsJR8dCoSIT"
      }
    },
    {
      "cell_type": "markdown",
      "source": [
        "12.Describe a scenario where using a tuple would be preferable over list?\n",
        "\n",
        "-> A scenario in which first entered data has not be changed further. Here tuple is used over list   "
      ],
      "metadata": {
        "id": "LJxNW3w1oSQ1"
      }
    },
    {
      "cell_type": "markdown",
      "source": [
        "13.How do set handle duplicate value in python?\n",
        "\n",
        "-> In sets only first entered duplocat evalue is considered not the other than first value"
      ],
      "metadata": {
        "id": "cxtmuOX_oSY7"
      }
    },
    {
      "cell_type": "markdown",
      "source": [
        "14.How does the \"in\" keyword work different for list and dictionaries?\n",
        "\n",
        "->In lists \"in\" used to accese the element directly ,In dictionaries data is accesed by entering the key or value."
      ],
      "metadata": {
        "id": "rX8uUOq3oShY"
      }
    },
    {
      "cell_type": "markdown",
      "source": [
        "15.Can you modify the element of tuple ? Explain why or why not?\n",
        "\n",
        "->No, beacause tuple are immutable data type"
      ],
      "metadata": {
        "id": "rAdAws59oSn0"
      }
    },
    {
      "cell_type": "markdown",
      "source": [
        "16.WHat is nested dictionaries, and give an example of its used case?\n",
        "\n",
        "-> Nested dictionarie is a dictionary in a dictionary eg.details of multiple students. Each student is added as a key and their information (name, age, grade) is stored in an inner dictionary"
      ],
      "metadata": {
        "id": "9tsH1CyPoSul"
      }
    },
    {
      "cell_type": "markdown",
      "source": [
        "17.Describe the time complexity of accesing element in dictionary"
      ],
      "metadata": {
        "id": "NooXvcqnoS1m"
      }
    },
    {
      "cell_type": "markdown",
      "source": [
        "18. In what situation are list prefered over dictionaries?\n",
        "\n",
        "->When we need ordered collection of data we prefered list over dictionaries"
      ],
      "metadata": {
        "id": "lDFlFYGZoS7b"
      }
    },
    {
      "cell_type": "markdown",
      "source": [
        "19.Why are Dictionaries considered unordered,How does that affect data retrieval?\n",
        "\n",
        "->Dictionaries does not maintain the order of element added"
      ],
      "metadata": {
        "id": "A9T9xM3ZoTCV"
      }
    },
    {
      "cell_type": "markdown",
      "source": [
        "20.Explain the Difference between a list and a dictonaries in terms of data retrievel?\n",
        "\n",
        "->List is ordered collection of item whereas dicionary is unordered.The element in list can accesed by index but dictonaries element are accesed by key"
      ],
      "metadata": {
        "id": "6z77Bu0loTJl"
      }
    },
    {
      "cell_type": "markdown",
      "source": [
        "### Coding practical question"
      ],
      "metadata": {
        "id": "FjxhfiQwyhbC"
      }
    },
    {
      "cell_type": "code",
      "source": [
        "#1.Write a string with your name and print it?\n",
        "name = \"Sohel shaikh\"\n",
        "print(name)"
      ],
      "metadata": {
        "id": "XXbnbB0a2Qlb",
        "colab": {
          "base_uri": "https://localhost:8080/"
        },
        "outputId": "8a26501f-4ce3-4761-eb25-35d9d4a13cbb"
      },
      "execution_count": null,
      "outputs": [
        {
          "output_type": "stream",
          "name": "stdout",
          "text": [
            "Sohel shaikh\n"
          ]
        }
      ]
    },
    {
      "cell_type": "code",
      "source": [
        "#2.Write acode to find length of a string \"HELLO WORLD\"\n",
        "string = \"HELLO WORLD\"\n",
        "length = len(string)\n",
        "print(length)"
      ],
      "metadata": {
        "id": "I1vg_B3JJ_mr",
        "colab": {
          "base_uri": "https://localhost:8080/"
        },
        "outputId": "811e47bf-ae8f-4b94-9a61-697904c0439a"
      },
      "execution_count": null,
      "outputs": [
        {
          "output_type": "stream",
          "name": "stdout",
          "text": [
            "11\n"
          ]
        }
      ]
    },
    {
      "cell_type": "code",
      "source": [
        "#3.Write a code to slice the first 3 character from the string \"Python Programing\"\n",
        "string = \"python programing\"\n",
        "string[ :3]"
      ],
      "metadata": {
        "id": "bARHmVgRyfpy",
        "colab": {
          "base_uri": "https://localhost:8080/",
          "height": 35
        },
        "outputId": "de8b9be4-4d06-474d-e5e4-f1905cb101d5"
      },
      "execution_count": null,
      "outputs": [
        {
          "output_type": "execute_result",
          "data": {
            "text/plain": [
              "'pyt'"
            ],
            "application/vnd.google.colaboratory.intrinsic+json": {
              "type": "string"
            }
          },
          "metadata": {},
          "execution_count": 17
        }
      ]
    },
    {
      "cell_type": "code",
      "source": [
        "#4.Write a code to convert the string \"hello\" to uppercase\n",
        "my_string = \"hello\"\n",
        "uppercase_string = my_string.upper()\n",
        "print(uppercase_string)\n"
      ],
      "metadata": {
        "colab": {
          "base_uri": "https://localhost:8080/"
        },
        "id": "QTNLlbpZ6aL_",
        "outputId": "aedd2a9a-4d55-4ca9-9fbf-dbc392021d44"
      },
      "execution_count": null,
      "outputs": [
        {
          "output_type": "stream",
          "name": "stdout",
          "text": [
            "HELLO\n"
          ]
        }
      ]
    },
    {
      "cell_type": "code",
      "source": [
        "#5.Write acode to replace \"apple\" with \"orange\" in the string \"I like apple\"\n",
        "my_string = \"I like apple\"\n",
        "new_string=my_string.replace(\"apple\",\"orange\")\n",
        "print(new_string)\n",
        "\n"
      ],
      "metadata": {
        "colab": {
          "base_uri": "https://localhost:8080/"
        },
        "id": "tmwpbUky8HLG",
        "outputId": "fc39ee6d-287a-43f0-9711-f7a55326720b"
      },
      "execution_count": null,
      "outputs": [
        {
          "output_type": "stream",
          "name": "stdout",
          "text": [
            "I like orange\n"
          ]
        }
      ]
    },
    {
      "cell_type": "code",
      "source": [
        "#6 write a code to create a list with number 1 to 5 and print\n",
        "number = list(range(1,6))\n",
        "print(number)"
      ],
      "metadata": {
        "id": "GDmrC5YPdJtA",
        "colab": {
          "base_uri": "https://localhost:8080/"
        },
        "outputId": "5d1f10ac-9447-4907-f11c-131120d3aeb7"
      },
      "execution_count": null,
      "outputs": [
        {
          "output_type": "stream",
          "name": "stdout",
          "text": [
            "[1, 2, 3, 4, 5]\n"
          ]
        }
      ]
    },
    {
      "cell_type": "code",
      "source": [
        "#7 write a code to append the number 10 to the list =[1,2,3,4,]\n",
        "my_list =[1,2,3,4]\n",
        "my_list.append(10)\n",
        "print(my_list)"
      ],
      "metadata": {
        "id": "MBm3iQImdKKh",
        "colab": {
          "base_uri": "https://localhost:8080/"
        },
        "outputId": "c16fdf65-08f7-45ad-a951-684f9e1a2fbf"
      },
      "execution_count": null,
      "outputs": [
        {
          "output_type": "stream",
          "name": "stdout",
          "text": [
            "[1, 2, 3, 4, 10]\n"
          ]
        }
      ]
    },
    {
      "cell_type": "code",
      "source": [
        "#8 write a code to remove the number 3 from the list [1,2,3,4,5]\n",
        "my_list = [1,2,3,4,5]\n",
        "my_list.remove(3)\n",
        "print(my_list)"
      ],
      "metadata": {
        "id": "WFkmUvNFdKZ7",
        "colab": {
          "base_uri": "https://localhost:8080/"
        },
        "outputId": "b4b566d0-0a45-4d00-cce9-1270834e1667"
      },
      "execution_count": null,
      "outputs": [
        {
          "output_type": "stream",
          "name": "stdout",
          "text": [
            "[1, 2, 4, 5]\n"
          ]
        }
      ]
    },
    {
      "cell_type": "code",
      "source": [
        "#9 write a code to access the second element in the list ['a'.'b','c','d']\n",
        "my_list = ['a','b','c','d']\n",
        "my_list[1]\n"
      ],
      "metadata": {
        "id": "6-mYfw5mdc1D",
        "colab": {
          "base_uri": "https://localhost:8080/",
          "height": 35
        },
        "outputId": "30088d11-c84d-4a41-8739-cdce2f6a7d35"
      },
      "execution_count": null,
      "outputs": [
        {
          "output_type": "execute_result",
          "data": {
            "text/plain": [
              "'b'"
            ],
            "application/vnd.google.colaboratory.intrinsic+json": {
              "type": "string"
            }
          },
          "metadata": {},
          "execution_count": 27
        }
      ]
    },
    {
      "cell_type": "code",
      "source": [
        " #10 write a code to reverse the list [10,20,30,40,50].\n",
        "lis =[10,20,30,40,50]\n",
        "lis.reverse()\n",
        "print(lis)"
      ],
      "metadata": {
        "id": "HQgcAja4ddDe",
        "colab": {
          "base_uri": "https://localhost:8080/"
        },
        "outputId": "0fa3c1ab-e52c-4680-88f7-f9ab4a103931"
      },
      "execution_count": null,
      "outputs": [
        {
          "output_type": "stream",
          "name": "stdout",
          "text": [
            "[50, 40, 30, 20, 10]\n"
          ]
        }
      ]
    },
    {
      "cell_type": "code",
      "source": [
        "#11  write a code to creat a tuple with the element 100,200,300 and print it\n",
        "my_tuple = (100, 200, 300)\n",
        "print(my_tuple)"
      ],
      "metadata": {
        "id": "jYJR_ZiLeSFn",
        "colab": {
          "base_uri": "https://localhost:8080/"
        },
        "outputId": "5e67634c-5503-4b09-b767-1d01b3d84b85"
      },
      "execution_count": null,
      "outputs": [
        {
          "output_type": "stream",
          "name": "stdout",
          "text": [
            "(100, 200, 300)\n",
            "(100, 200, 300)\n"
          ]
        }
      ]
    },
    {
      "cell_type": "code",
      "source": [
        "#12 write a code to accese second to last element of the tuple ('red','green','blue','yellow')\n",
        "colors=('red','green','blue','yellow')\n",
        "second_to_last = colors[-2]\n",
        "print(second_to_last)"
      ],
      "metadata": {
        "id": "-7NcgtAteSWu",
        "colab": {
          "base_uri": "https://localhost:8080/"
        },
        "outputId": "6f1b8e2a-4fc9-41ce-8e09-15f787db130a"
      },
      "execution_count": null,
      "outputs": [
        {
          "output_type": "stream",
          "name": "stdout",
          "text": [
            "blue\n"
          ]
        }
      ]
    },
    {
      "cell_type": "code",
      "source": [
        "#13  write a code to find the minimum number in the tuple (10,20,5,15)\n",
        "my_tuple=(10,20,5,15)\n",
        "min(my_tuple)"
      ],
      "metadata": {
        "id": "7RQzVrJJeSii",
        "colab": {
          "base_uri": "https://localhost:8080/"
        },
        "outputId": "34678ac4-bf54-4d87-b532-026b27f38744"
      },
      "execution_count": null,
      "outputs": [
        {
          "output_type": "execute_result",
          "data": {
            "text/plain": [
              "5"
            ]
          },
          "metadata": {},
          "execution_count": 37
        }
      ]
    },
    {
      "cell_type": "code",
      "source": [
        "#14  write a code to find the index of the element \"cat\" in the tuple ('dog','cat',rabbit')\n",
        "my_tuple = ('dog', 'cat', 'rabbit')\n",
        "my_tuple.index('cat')\n"
      ],
      "metadata": {
        "id": "6YetrORWeUjd",
        "colab": {
          "base_uri": "https://localhost:8080/"
        },
        "outputId": "50ec0523-b867-484e-f2fe-82cd1365ccb3"
      },
      "execution_count": null,
      "outputs": [
        {
          "output_type": "execute_result",
          "data": {
            "text/plain": [
              "1"
            ]
          },
          "metadata": {},
          "execution_count": 13
        }
      ]
    },
    {
      "cell_type": "code",
      "source": [
        "#15 write a code to create a tuple containing three different fruits and check if 'kiwi' is in it\n",
        "my_tuple=('banana','mango','kiwi')\n",
        "if 'kiwi' in my_tuple:\n",
        "   print (\"yes kiwi is present\")\n",
        "else:\n",
        "  print('no kiwi present')"
      ],
      "metadata": {
        "id": "XyWqoax1eUzB",
        "colab": {
          "base_uri": "https://localhost:8080/"
        },
        "outputId": "ed96dd25-a83e-4eb7-8697-349f80f629e2"
      },
      "execution_count": null,
      "outputs": [
        {
          "output_type": "stream",
          "name": "stdout",
          "text": [
            "yes kiwi is present\n"
          ]
        }
      ]
    },
    {
      "cell_type": "code",
      "source": [
        "#16 write a code to creat the set with the element 'a','b','c' and print it\n",
        "my_set={'a','b','c'}\n",
        "print(my_set)\n"
      ],
      "metadata": {
        "id": "TB0gvrHzeU52",
        "colab": {
          "base_uri": "https://localhost:8080/"
        },
        "outputId": "8cac82ae-2dba-4df7-b90b-d4cdf17efc74"
      },
      "execution_count": null,
      "outputs": [
        {
          "output_type": "stream",
          "name": "stdout",
          "text": [
            "{'c', 'b', 'a'}\n"
          ]
        }
      ]
    },
    {
      "cell_type": "code",
      "source": [
        "#17 write a code to clear all element from the set{1,2,3,4,5}\n",
        "my_set = {1, 2, 3, 4, 5}\n",
        "my_set.clear()\n",
        "print(my_set)"
      ],
      "metadata": {
        "id": "6vFCfW-EeVNw",
        "colab": {
          "base_uri": "https://localhost:8080/"
        },
        "outputId": "d0ef74fd-ddf1-4950-e135-21296f2cab6e"
      },
      "execution_count": null,
      "outputs": [
        {
          "output_type": "stream",
          "name": "stdout",
          "text": [
            "set()\n"
          ]
        }
      ]
    },
    {
      "cell_type": "code",
      "source": [
        "#18 write a code to remove the element 4 from the set{1,2,3,4}\n",
        "my_set = {1, 2, 3, 4, }\n",
        "my_set.remove(4)\n",
        "print(my_set)"
      ],
      "metadata": {
        "id": "J93YUr2-eV5s",
        "colab": {
          "base_uri": "https://localhost:8080/"
        },
        "outputId": "c35d4f8a-264c-4996-9cbf-fe67b39de8f1"
      },
      "execution_count": null,
      "outputs": [
        {
          "output_type": "stream",
          "name": "stdout",
          "text": [
            "{1, 2, 3}\n"
          ]
        }
      ]
    },
    {
      "cell_type": "code",
      "source": [
        "#19 write a code to find the union of two set {1,2,3} and {3,4,5}\n",
        "set1={1,2,3}\n",
        "set2={3,4,5}\n",
        "print(set1|set2)"
      ],
      "metadata": {
        "id": "SfPrjYTieWCw",
        "colab": {
          "base_uri": "https://localhost:8080/"
        },
        "outputId": "9ecf9241-cecf-4b26-9ff5-7603950a4be6"
      },
      "execution_count": null,
      "outputs": [
        {
          "output_type": "stream",
          "name": "stdout",
          "text": [
            "{1, 2, 3, 4, 5}\n"
          ]
        }
      ]
    },
    {
      "cell_type": "code",
      "source": [
        "#20 write a code to find the intersection of two sets {1,2,3} and {2,3,4}\n",
        "set1={1,2,3}\n",
        "set2={2,3,4}\n",
        "print(set1&set2)"
      ],
      "metadata": {
        "id": "tNfm-ujXeWLQ",
        "colab": {
          "base_uri": "https://localhost:8080/"
        },
        "outputId": "7584bd54-b8ed-4cfd-ff4b-cc258cca0c2c"
      },
      "execution_count": null,
      "outputs": [
        {
          "output_type": "stream",
          "name": "stdout",
          "text": [
            "{2, 3}\n"
          ]
        }
      ]
    },
    {
      "cell_type": "code",
      "source": [
        "#21 write a code to creat a dictionaries with the keys \"name\",\"age\"and \"city\" and print it\n",
        "dict={\"name\",\"age\",\"city\"}\n",
        "print(dict)\n"
      ],
      "metadata": {
        "id": "05ofx1QQeWTO",
        "colab": {
          "base_uri": "https://localhost:8080/"
        },
        "outputId": "fb593ebd-e97a-4b2e-af44-0d3ef97af4b4"
      },
      "execution_count": null,
      "outputs": [
        {
          "output_type": "stream",
          "name": "stdout",
          "text": [
            "{'name', 'city', 'age'}\n"
          ]
        }
      ]
    },
    {
      "cell_type": "code",
      "source": [
        "#22 write a code to add a new key-value pair \"country\":\"USA\" to dictionary {'name':'alice','age':25}\n",
        "my_dict = {'name': 'alice', 'age': 25}\n",
        "my_dict['country'] = 'USA'\n",
        "print(my_dict)"
      ],
      "metadata": {
        "id": "LAosqQAAeWbZ",
        "colab": {
          "base_uri": "https://localhost:8080/"
        },
        "outputId": "3a969e64-e64a-4c6b-b7fa-65abfb969ec6"
      },
      "execution_count": null,
      "outputs": [
        {
          "output_type": "stream",
          "name": "stdout",
          "text": [
            "{'name': 'alice', 'age': 25, 'country': 'USA'}\n"
          ]
        }
      ]
    },
    {
      "cell_type": "code",
      "source": [
        "#23 write a code to accese the value associated with the key \"name\" in the dictionary {'name':'alice','age':30}\n",
        "my_dict={\"name\":\"alice\",\"age\":\"30\"}\n",
        "print(\"name\")"
      ],
      "metadata": {
        "id": "stvTSQDteWjn",
        "colab": {
          "base_uri": "https://localhost:8080/"
        },
        "outputId": "f149717c-37c9-4c70-a85e-2ea9a0265e80"
      },
      "execution_count": null,
      "outputs": [
        {
          "output_type": "stream",
          "name": "stdout",
          "text": [
            "name\n"
          ]
        }
      ]
    },
    {
      "cell_type": "code",
      "source": [
        "#24 write a code to remove the key \"age\" from thr dictionary {'name':'Bob','age':'22','city':'new york'}\n",
        "my_dict={\"name\":\"bob\",\"age\":\"22\",\"city\":\"new york\"}\n",
        "my_dict.pop('age')\n",
        "print(my_dict)"
      ],
      "metadata": {
        "id": "gR0lxKZBeWrV",
        "colab": {
          "base_uri": "https://localhost:8080/"
        },
        "outputId": "62082065-f4e0-4923-a23f-1beaa91d15ed"
      },
      "execution_count": null,
      "outputs": [
        {
          "output_type": "stream",
          "name": "stdout",
          "text": [
            "{'name': 'bob', 'city': 'new york'}\n"
          ]
        }
      ]
    },
    {
      "cell_type": "code",
      "source": [
        "#25 write a code to check if the key \"city\" exist in the dictionary{'name':alice,'city':'paris'\n",
        "my_dict = {'name': 'alice', 'city': 'paris'}\n",
        "\n",
        "if my_dict.get('city') is not None:\n",
        "  print(\"The key 'city' exists .\")\n",
        "else:\n",
        "  print(\"The key 'city' does not exist .\")\n"
      ],
      "metadata": {
        "id": "2tKtcPGBeXIl",
        "colab": {
          "base_uri": "https://localhost:8080/"
        },
        "outputId": "84a3e9db-c12f-4f39-c18c-5c7144bfdb41"
      },
      "execution_count": null,
      "outputs": [
        {
          "output_type": "stream",
          "name": "stdout",
          "text": [
            "The key 'city' exists in the dictionary.\n"
          ]
        }
      ]
    },
    {
      "cell_type": "code",
      "source": [
        "#26 write a code to creat a list ,a tuple and a dictionary, and print them all\n",
        "my_list=[1,2,3]\n",
        "my_tuple=(1,2,3)\n",
        "my_dict={\"name\":\"sohel\",\"age\":\"23\"}\n",
        "print(my_list)\n",
        "print(my_tuple)\n",
        "print(my_dict)"
      ],
      "metadata": {
        "id": "CF6L7LJaddQf",
        "colab": {
          "base_uri": "https://localhost:8080/"
        },
        "outputId": "1cf71a2d-8924-4ca8-f44c-f3aad8647cca"
      },
      "execution_count": null,
      "outputs": [
        {
          "output_type": "stream",
          "name": "stdout",
          "text": [
            "[1, 2, 3]\n",
            "(1, 2, 3)\n",
            "{'name': 'sohel', 'age': '23'}\n"
          ]
        }
      ]
    },
    {
      "cell_type": "code",
      "source": [
        "#27 write a code to creat a list of 5 random numbers between 1 and 100, sort it in ascending order, and print the result (replaced)\n",
        "import random\n",
        "\n",
        "\n",
        "random_numbers = []\n",
        "\n",
        "\n",
        "for _ in range(5):\n",
        "    number = random.randint(1, 100)\n",
        "    random_numbers.append(number)\n",
        "\n",
        "\n",
        "random_numbers.sort()\n",
        "\n",
        "\n",
        "print(random_numbers)"
      ],
      "metadata": {
        "id": "jr3pRNgAfCCU",
        "colab": {
          "base_uri": "https://localhost:8080/"
        },
        "outputId": "14960566-7a27-4f47-8769-cf29f5e76455"
      },
      "execution_count": 2,
      "outputs": [
        {
          "output_type": "stream",
          "name": "stdout",
          "text": [
            "[17, 22, 22, 50, 72]\n"
          ]
        }
      ]
    },
    {
      "cell_type": "code",
      "source": [
        "#28 write a code to creat a list with string and print the element at the third index\n",
        "my_list=[\"lion\",\"tiger\",\"girrafe\",\"monkey\"]\n",
        "print(my_list[3])\n"
      ],
      "metadata": {
        "id": "arIRHXjafCoF",
        "colab": {
          "base_uri": "https://localhost:8080/"
        },
        "outputId": "5f14ccc7-94f4-4e0d-a3c6-30ca865befd2"
      },
      "execution_count": 4,
      "outputs": [
        {
          "output_type": "stream",
          "name": "stdout",
          "text": [
            "monkey\n"
          ]
        }
      ]
    },
    {
      "cell_type": "code",
      "source": [
        "#29 write a code to combine two dictionaries into one and print the result\n",
        "dict1={\"name\":\"sohel\",\"age\":\"23\"}\n",
        "dict2={\"colelege\":\"asc colege\",\"state\":\"maharashtra\"}\n",
        "my_dict=dict1|dict2\n",
        "print(my_dict)"
      ],
      "metadata": {
        "id": "5F090_b7fDW7",
        "colab": {
          "base_uri": "https://localhost:8080/"
        },
        "outputId": "212c650a-5749-4e5b-fb2a-183db6d4b741"
      },
      "execution_count": 6,
      "outputs": [
        {
          "output_type": "stream",
          "name": "stdout",
          "text": [
            "{'name': 'sohel', 'age': '23', 'colelege': 'asc colege', 'state': 'maharashtra'}\n"
          ]
        }
      ]
    },
    {
      "cell_type": "code",
      "source": [
        "#30  write a code to convert a list of string into a set\n",
        "my_list=[\"lion\",\"tiger\",\"girrafe\",\"monkey\"]\n",
        "my_set=set(my_list)\n",
        "print(my_set)"
      ],
      "metadata": {
        "id": "T4L8ytTRfDno"
      },
      "execution_count": null,
      "outputs": []
    }
  ]
}